{
 "cells": [
  {
   "cell_type": "markdown",
   "id": "69e1ce23",
   "metadata": {},
   "source": [
    "# Prompt Generation for Refactoring Dependencies\n",
    "\n",
    "This notebook helps generate prompts for refactoring code dependencies between modules in the CleanCode project."
   ]
  },
  {
   "cell_type": "code",
   "execution_count": 1,
   "id": "ca640cfa",
   "metadata": {},
   "outputs": [
    {
     "name": "stdout",
     "output_type": "stream",
     "text": [
      " Dear Claude, Our current implementation has the following dependencies: - 'main.js' imports several elements from 'stateManager.js'. -  'simulationManager.js' also accesses some elements from 'stateManager.js' directly, which is not optimal for code modularity. -  'main.js' is in charge of managing all the responsabilities in 'simulationManager.js'. I propose refactoring by decoupling 'simulationManager.js' from its direct reliance on 'stateManager.js'. Under this approach, main.js would supply the necessary state data to 'simulationManager.js', if it requires it. I think this refactoring would allow enhance modularity and maintainability, and increase overall system flexibility and clarity. Does this design direction seem sound to you, or would you recommend an alternative strategy to decouple 'simulationManager.js' more effectively? I'm open to suggestions on best practices, potential pitfalls, or other design patterns that you think might better serve these goals. Thank you! \n"
     ]
    }
   ],
   "source": [
    "\n",
    "# we have to write a code to replace the \"managerModule\", \"problematicModule\" and \"sourceModule\" \n",
    "# in the prompt with the values of the variables above\n",
    "\n",
    "\n",
    "managerModule = \"main.js\"\n",
    "\n",
    "problematicModule = \"simulationManager.js\"\n",
    "\n",
    "sourceModule = \"stateManager.js\"\n",
    "\n",
    "prompt = f\"\"\"\n",
    "Dear Claude,\n",
    "Our current implementation has the following dependencies:\n",
    "- '{managerModule}' imports several elements from '{sourceModule}'.\n",
    "-  '{problematicModule}' also accesses some elements from '{sourceModule}' directly, which is not optimal for code modularity.\n",
    "-  '{managerModule}' is in charge of managing all the responsabilities in '{problematicModule}'.\n",
    "I propose refactoring by decoupling '{problematicModule}' from its direct reliance on '{sourceModule}'. Under this approach, {managerModule} would supply the necessary state data to '{problematicModule}', if it requires it.\n",
    "I think this refactoring would allow enhance modularity and maintainability, and increase overall system flexibility and clarity.\n",
    "Does this design direction seem sound to you, or would you recommend an alternative strategy to decouple '{problematicModule}' more effectively? I'm open to suggestions on best practices, potential pitfalls, or other design patterns that you think might better serve these goals.\n",
    "Thank you!\n",
    "\"\"\"\n",
    "# Now we will replace the variables in the prompt with their values\n",
    "\n",
    "\n",
    "prompt = prompt.replace(\"\\n\", \" \")\n",
    "\n",
    " \n",
    "print(prompt)\n",
    "\n"
   ]
  },
  {
   "cell_type": "code",
   "execution_count": null,
   "id": "cc35fbf0",
   "metadata": {},
   "outputs": [],
   "source": []
  },
  {
   "cell_type": "code",
   "execution_count": 2,
   "id": "a9a33fde",
   "metadata": {},
   "outputs": [
    {
     "name": "stdout",
     "output_type": "stream",
     "text": [
      " Dear Claude,  I need your wise advice on this one. Given that 'updateHistories', 'getMagentaCount' and 'getCyanCount'  are all defined in the same module 'simulationManager.js',  wouldn't it be better if the simulationManager.js had one single internal function  that combines all these? Does this design direction seem sound, or would you recommend  an alternative strategy to simplify these dependencies more effectively? I'm open  to suggestions on best practices, potential pitfalls, or other design patterns  that might better serve these goals.  Thank you! \n"
     ]
    }
   ],
   "source": [
    "\n",
    "\n",
    "commonModule = \"simulationManager.js\"\n",
    "\n",
    "function1 = \"updateHistories\"\n",
    "\n",
    "function2 = \"getMagentaCount\"\n",
    "\n",
    "function3 = \"getCyanCount\"\n",
    "\n",
    "prompt = f\"\"\"\n",
    "Dear Claude,\n",
    "\n",
    "I need your wise advice on this one. Given that '{function1}', '{function2}' and '{function3}' \n",
    "are all defined in the same module '{commonModule}', \n",
    "wouldn't it be better if the {commonModule} had one single internal function \n",
    "that combines all these? Does this design direction seem sound, or would you recommend \n",
    "an alternative strategy to simplify these dependencies more effectively? I'm open \n",
    "to suggestions on best practices, potential pitfalls, or other design patterns \n",
    "that might better serve these goals.\n",
    "\n",
    "Thank you!\n",
    "\"\"\"\n",
    "\n",
    "\n",
    "\n",
    "\n",
    "## we need to delete all line breaks in the prompt\n",
    "\n",
    "prompt = prompt.replace(\"\\n\", \" \")\n",
    "print(prompt)\n",
    "\n"
   ]
  },
  {
   "cell_type": "markdown",
   "id": "80faea02",
   "metadata": {},
   "source": [
    "# Prompt Generation for Refactoring Dependencies\n",
    "\n",
    "This notebook helps generate prompts for refactoring code dependencies between modules in the CleanCode project."
   ]
  },
  {
   "cell_type": "code",
   "execution_count": 4,
   "id": "851474c8",
   "metadata": {},
   "outputs": [
    {
     "name": "stdout",
     "output_type": "stream",
     "text": [
      "\n",
      "Dear Claude,\n",
      "\n",
      "I need your wise advice on this one. Given that sceneState.renderer is\n",
      "contained in the same module as sceneState.scene and sceneState.camera,\n",
      "wouldn't it be better if the sceneManager.js had an internal function\n",
      "to render this? Does this design direction seem sound, or would you recommend\n",
      "an alternative strategy to simplify these dependencies more effectively? I'm open\n",
      "to suggestions on best practices, potential pitfalls, or other design patterns\n",
      "that might better serve these goals.\n",
      "\n",
      "Thank you!\n",
      "\n"
     ]
    }
   ],
   "source": [
    "# Example of combining multiple function references into a single module function\n",
    "\n",
    "sceneModule = \"sceneManager.js\"\n",
    "\n",
    "prompt = f\"\"\"\n",
    "Dear Claude,\n",
    "\n",
    "I need your wise advice on this one. Given that sceneState.renderer is\n",
    "contained in the same module as sceneState.scene and sceneState.camera,\n",
    "wouldn't it be better if the {sceneModule} had an internal function\n",
    "to render this? Does this design direction seem sound, or would you recommend\n",
    "an alternative strategy to simplify these dependencies more effectively? I'm open\n",
    "to suggestions on best practices, potential pitfalls, or other design patterns\n",
    "that might better serve these goals.\n",
    "\n",
    "Thank you!\n",
    "\"\"\"\n",
    "\n",
    "print(prompt)"
   ]
  }
 ],
 "metadata": {
  "kernelspec": {
   "display_name": ".venv",
   "language": "python",
   "name": "python3"
  },
  "language_info": {
   "codemirror_mode": {
    "name": "ipython",
    "version": 3
   },
   "file_extension": ".py",
   "mimetype": "text/x-python",
   "name": "python",
   "nbconvert_exporter": "python",
   "pygments_lexer": "ipython3",
   "version": "3.12.3"
  }
 },
 "nbformat": 4,
 "nbformat_minor": 5
}
