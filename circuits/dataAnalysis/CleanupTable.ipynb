{
 "cells": [
  {
   "cell_type": "code",
   "execution_count": null,
   "id": "4f019f8c",
   "metadata": {},
   "outputs": [
    {
     "name": "stdout",
     "output_type": "stream",
     "text": [
      "📂 Found 35 JSON files in ./data\n",
      "✅ Converted 43528 rows from 35 files into: Xylose1_1IPTG_cropped_cell_info.xlsx\n"
     ]
    }
   ],
   "source": [
    "import json\n",
    "import pandas as pd\n",
    "import glob\n",
    "import os\n",
    "\n",
    "def json_to_excel_table_from_folder(folder_path, excel_path):\n",
    "    \"\"\"\n",
    "    Reads all .json files in a folder, concatenates them into one DataFrame\n",
    "    with the structure expected by the bacterial response analysis code,\n",
    "    and saves to Excel.\n",
    "    \"\"\"\n",
    "    all_rows = []\n",
    "\n",
    "    # Find all json files in given folder\n",
    "    json_files = glob.glob(os.path.join(folder_path, \"*.json\"))\n",
    "\n",
    "    if not json_files:\n",
    "        print(\"❌ No JSON files found in\", folder_path)\n",
    "        return\n",
    "\n",
    "    print(f\"📂 Found {len(json_files)} JSON files in {folder_path}\")\n",
    "    frameCounter=1\n",
    "    for json_file in json_files:\n",
    "        frameCounter = frameCounter+1\n",
    "        with open(json_file, 'r') as f:\n",
    "            try:\n",
    "                data = json.load(f)\n",
    "            except json.JSONDecodeError as e:\n",
    "                print(f\"⚠️ Skipping {json_file}: JSON decode error ({e})\")\n",
    "                continue\n",
    "\n",
    "        # Safety check: if file has a single object instead of a list\n",
    "        if isinstance(data, dict):\n",
    "            data = [data]\n",
    "\n",
    "        for cell in data:\n",
    "            frame = frameCounter\n",
    "            x = cell.get(\"x\", None)\n",
    "            y = cell.get(\"y\", None)\n",
    "            aimP = cell.get(\"cytoplasmConcentrations\", {}).get(\"P\", None)\n",
    "            aimR = cell.get(\"cytoplasmConcentrations\", {}).get(\"R\", None)*100\n",
    "            rfp = cell.get(\"cytoplasmConcentrations\", {}).get(\"F\", None)*10\n",
    "            ExAimp = cell.get(\"extracellularConcentrations\", {}).get(\"P\", None)*1000\n",
    "\n",
    "            cell_type = cell.get(\"cytoplasmConcentrations\", {}).get(\"producer\", None)\n",
    "\n",
    "         \n",
    "            all_rows.append([frame, x, y, aimP, aimR,rfp, ExAimp, cell_type])\n",
    "\n",
    "    # Create combined DataFrame\n",
    "    df = pd.DataFrame(all_rows, columns=[\n",
    "        \"Frame\", \"X\", \"Y\", \"aimp Intensity\", \"aimr Intensity\", \"rfp Intensity\", \"extracellular\", \"Cell Type\"\n",
    "    ])\n",
    "\n",
    "    # Save to Excel\n",
    "    df.to_excel(excel_path, index=False)\n",
    "    print(f\"✅ Converted {len(df)} rows from {len(json_files)} files into: {excel_path}\")\n",
    "\n",
    "\n",
    "if __name__ == \"__main__\":\n",
    "    # Folder containing all JSON files\n",
    "    folder_with_json = \"./data\"   # change if needed\n",
    "    output_excel = \"Xylose1_1IPTG_cropped_cell_info.xlsx\"\n",
    "    json_to_excel_table_from_folder(folder_with_json, output_excel)\n"
   ]
  }
 ],
 "metadata": {
  "kernelspec": {
   "display_name": ".venv",
   "language": "python",
   "name": "python3"
  },
  "language_info": {
   "codemirror_mode": {
    "name": "ipython",
    "version": 3
   },
   "file_extension": ".py",
   "mimetype": "text/x-python",
   "name": "python",
   "nbconvert_exporter": "python",
   "pygments_lexer": "ipython3",
   "version": "3.12.3"
  }
 },
 "nbformat": 4,
 "nbformat_minor": 5
}
